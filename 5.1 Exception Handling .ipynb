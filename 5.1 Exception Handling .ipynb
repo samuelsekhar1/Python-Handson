{
 "cells": [
  {
   "cell_type": "raw",
   "id": "7f0e5a39-fc84-441a-ba5f-eb636008686c",
   "metadata": {},
   "source": [
    "Q1)What is an Exception in python?Write the differences between Exception and syntax errors"
   ]
  },
  {
   "cell_type": "raw",
   "id": "4bb875bd-b584-4b08-86d8-6931d1da0470",
   "metadata": {},
   "source": [
    "Errors are the problems in a program due to which the program will stop the execution. On the other hand, exceptions are raised when some internal events occur which changes the normal flow of the program.\n",
    "Two types of Error occurs in python.\n",
    "1)Syntax errors : When the proper syntax of the language is not followed then a syntax error is thrown.\n",
    "2)Logical errors (Exceptions) : When in the runtime an error that occurs after passing the syntax test is called exception or logical type.\n",
    "Example:\n"
   ]
  },
  {
   "cell_type": "code",
   "execution_count": 2,
   "id": "c6e5c686-d7aa-4fa1-8bd3-40e3106fa805",
   "metadata": {},
   "outputs": [
    {
     "name": "stdout",
     "output_type": "stream",
     "text": [
      "Well that didn't work\n"
     ]
    }
   ],
   "source": [
    "#syntax error\n",
    "a = 'print('\n",
    "b = '\"Hello)\"'\n",
    "try:\n",
    "    exec(a+b) #this will try to execute print(\"Hello)\" <= note the wrong syntax\n",
    "except SyntaxError:\n",
    "    print('Well that didn\\'t work')\n"
   ]
  },
  {
   "cell_type": "code",
   "execution_count": 3,
   "id": "73ec7117-6682-443e-a1a7-0cd9ea0284a7",
   "metadata": {},
   "outputs": [
    {
     "name": "stdout",
     "output_type": "stream",
     "text": [
      "Error :  division by zero\n"
     ]
    }
   ],
   "source": [
    "#logical error\n",
    "a= 12\n",
    "\n",
    "try :\n",
    "    print(a/0)\n",
    "\n",
    "except ZeroDivisionError as e:\n",
    "    print(\"Error : \",e)\n"
   ]
  },
  {
   "cell_type": "raw",
   "id": "92ebba1f-fa0c-40fb-a71b-fd9a20ad9cb4",
   "metadata": {},
   "source": [
    "Q2) What happens when an exception is not handled ? Explain with an example"
   ]
  },
  {
   "cell_type": "raw",
   "id": "4267d957-26d3-4473-8804-f17f546980f0",
   "metadata": {},
   "source": [
    "When an exception is not handled, it propagates through the program's execution stack until it either reaches an appropriate exception handler or terminates the program if no handler is found. This process is known as \"unhandled exception\" or \"exception propagation.\""
   ]
  },
  {
   "cell_type": "code",
   "execution_count": 4,
   "id": "eed4a239-0e3a-4007-a0af-950d662d7675",
   "metadata": {},
   "outputs": [],
   "source": [
    "def divide_numbers(a, b):\n",
    "    try:\n",
    "        result = a / b\n",
    "        print(\"The result of the division is:\", result)\n",
    "    except ZeroDivisionError as e:\n",
    "        print(\"Error: Division by zero is not allowed.\",e)"
   ]
  },
  {
   "cell_type": "code",
   "execution_count": 6,
   "id": "e251fdfa-2d31-423f-93dc-c9cc5e68df1d",
   "metadata": {},
   "outputs": [
    {
     "name": "stdout",
     "output_type": "stream",
     "text": [
      "Error: Division by zero is not allowed. division by zero\n"
     ]
    }
   ],
   "source": [
    "# Example 1: Exception is not handled\n",
    "divide_numbers(12,0)"
   ]
  },
  {
   "cell_type": "code",
   "execution_count": 7,
   "id": "b2a1c11d-89c1-47a3-b921-4e2590b36d72",
   "metadata": {},
   "outputs": [
    {
     "name": "stdout",
     "output_type": "stream",
     "text": [
      "The result of the division is: 4.0\n"
     ]
    }
   ],
   "source": [
    "# Example 2: Exception is handled\n",
    "divide_numbers(20, 5)  \n"
   ]
  },
  {
   "cell_type": "raw",
   "id": "1ebbe84d-a2d5-4edc-896e-baa7ac4ca84a",
   "metadata": {},
   "source": [
    "Q3) Which python statements are used to catch and handle Exceptions?Explain with an example"
   ]
  },
  {
   "cell_type": "raw",
   "id": "51e039d6-b30a-4545-965f-41b35c13a9f4",
   "metadata": {},
   "source": [
    "Exceptions can be caught and handled in python using the try ,except and finally statements. The try block is used to enclose the code that may raise an exception, and the except block is used to specify the handling of the exception and the finally block executes no matter if the exception is caught or not."
   ]
  },
  {
   "cell_type": "code",
   "execution_count": 8,
   "id": "ae7b18c7-e101-46f7-9e3b-554e0a0373c4",
   "metadata": {},
   "outputs": [],
   "source": [
    "def add(a,b):\n",
    "    try:\n",
    "        add = a+b\n",
    "        print(\"The result : \",add)     \n",
    "    except Exception as e:\n",
    "        print(\"Warning error has occured \",e)\n",
    "    finally:\n",
    "        print(\"The code is executed successfully\")\n"
   ]
  },
  {
   "cell_type": "code",
   "execution_count": 9,
   "id": "52dce6c1-6f48-44db-9fd3-7f67ceef7ba0",
   "metadata": {},
   "outputs": [
    {
     "name": "stdout",
     "output_type": "stream",
     "text": [
      "The result :  25\n",
      "The code is executed successfully\n"
     ]
    }
   ],
   "source": [
    "# Example 1: Exception is handled\n",
    "add(20, 5) \n"
   ]
  },
  {
   "cell_type": "code",
   "execution_count": 10,
   "id": "c676c3d5-fb66-4bcb-874a-d87552b8da31",
   "metadata": {},
   "outputs": [
    {
     "name": "stdout",
     "output_type": "stream",
     "text": [
      "Warning error has occured  unsupported operand type(s) for +: 'int' and 'str'\n",
      "The code is executed successfully\n"
     ]
    }
   ],
   "source": [
    "# Example 2: Exception is not handled\n",
    "add(20, \"ss\") \n"
   ]
  },
  {
   "cell_type": "raw",
   "id": "f5c0530a-6511-411f-8a39-f1f6cdd37a75",
   "metadata": {},
   "source": [
    "Q4) Explain with example:\n",
    "try and else\n",
    "finally\n",
    "raise"
   ]
  },
  {
   "cell_type": "raw",
   "id": "2a277a89-91d7-4d28-8a11-db2ccc378877",
   "metadata": {},
   "source": [
    "Try:\n",
    "    within the try block if anywhere exception raised then rest of the try block wont be \n",
    "executed eventhough we handled that exception. Hence we have to take only risky code \n",
    "inside try block and length of the try block should be as less as possible.\n",
    "else:\n"
   ]
  },
  {
   "cell_type": "code",
   "execution_count": 11,
   "id": "d3c4067b-cf19-41ee-9a0d-89cb9abbd83a",
   "metadata": {},
   "outputs": [
    {
     "name": "stdout",
     "output_type": "stream",
     "text": [
      "this block will execute once try block will execute itself without an exception\n"
     ]
    }
   ],
   "source": [
    "#try and else\n",
    "try :\n",
    "    f = open(\"test.txt\",'w')\n",
    "    f.write(\"this is my message\")\n",
    "    \n",
    "except Exception as e:\n",
    "    print(\"there is some issue with my code\",e)\n",
    "    \n",
    "else:\n",
    "    f.close()\n",
    "    print(\"this block will execute once try block will execute itself without an exception\")"
   ]
  },
  {
   "cell_type": "code",
   "execution_count": 12,
   "id": "3b7fd68e-e3ff-4958-a10a-8625e4ed3e9e",
   "metadata": {},
   "outputs": [
    {
     "name": "stdout",
     "output_type": "stream",
     "text": [
      "this block will execute once try block will execute itself without an exception\n",
      "this block will always execute no matter what\n"
     ]
    }
   ],
   "source": [
    "#finally\n",
    "try :\n",
    "    f = open(\"test.txt\",'w')\n",
    "    f.write(\"this is my message\")\n",
    "    \n",
    "except Exception as e:\n",
    "    print(\"there is some issue with my code\",e)\n",
    "    \n",
    "else:\n",
    "    f.close()\n",
    "    print(\"this block will execute once try block will execute itself without an exception\")\n",
    "    \n",
    "finally:\n",
    "    print(\"this block will always execute no matter what\")\n"
   ]
  },
  {
   "cell_type": "code",
   "execution_count": 14,
   "id": "1e0b268e-3ac5-4a38-8efa-f3fa8414f3e9",
   "metadata": {},
   "outputs": [
    {
     "name": "stdin",
     "output_type": "stream",
     "text": [
      "Enter your age -89\n"
     ]
    },
    {
     "name": "stdout",
     "output_type": "stream",
     "text": [
      "age cant be less than 0\n"
     ]
    }
   ],
   "source": [
    "#raise\n",
    "class validateage(Exception):\n",
    "    def __init__(self,msg):\n",
    "        self.msg=msg\n",
    "        \n",
    "\n",
    "def validate_age(age):\n",
    "    if age<0 :\n",
    "        raise validateage(\"age cant be less than 0\")\n",
    "    elif age>200:\n",
    "        raise validateage(\"age is too big\")\n",
    "    else:\n",
    "        raise validateage(\"age is valid\")\n",
    "\n",
    "try:\n",
    "    age= int(input(\"Enter your age\"))\n",
    "    validate_age(age)\n",
    "except validateage as e:\n",
    "    print(e)\n"
   ]
  },
  {
   "cell_type": "raw",
   "id": "7ab445cd-4314-4fe7-a740-248a0cf15a3a",
   "metadata": {},
   "source": [
    "Q5) What are custom exceptions ? Why do we need custom Exceptions? Explain with example?"
   ]
  },
  {
   "cell_type": "raw",
   "id": "728359db-f03b-4772-8292-67b343d7ac4a",
   "metadata": {},
   "source": [
    "Custom exceptions, also known as user-defined exceptions, are exceptions that you create in your Python code to represent specific error conditions or exceptional situations that are not covered by the built-in exceptions provided by Python.\n",
    "->Provide more descriptive error messages.\n",
    "->Enhance code modularity and organization.\n",
    "->Enable clearer and explicit exception handling.\n",
    "->Offer extensibility and flexibility in defining exception hierarchies.\n",
    "->Facilitate domain-specific error handling.\n"
   ]
  },
  {
   "cell_type": "code",
   "execution_count": 1,
   "id": "e14d81ce-e4b6-468a-8d9a-0fc1894cf531",
   "metadata": {},
   "outputs": [
    {
     "name": "stdin",
     "output_type": "stream",
     "text": [
      "Enter your age 270\n"
     ]
    },
    {
     "name": "stdout",
     "output_type": "stream",
     "text": [
      "age is too big\n"
     ]
    }
   ],
   "source": [
    "class validateage(Exception):\n",
    "    def __init__(self,msg):\n",
    "        self.msg=msg\n",
    "        \n",
    "def validate_age(age):\n",
    "    if age<0 :\n",
    "        raise validateage(\"age cant be less than 0\")\n",
    "    elif age>200:\n",
    "        raise validateage(\"age is too big\")\n",
    "    else:\n",
    "        raise validateage(\"age is valid\")\n",
    "\n",
    "try:\n",
    "    age= int(input(\"Enter your age\"))\n",
    "    validate_age(age)\n",
    "except validateage as e:\n",
    "    print(e)\n"
   ]
  },
  {
   "cell_type": "raw",
   "id": "44ea7df1-eed7-4a04-9c42-cfd35e74b441",
   "metadata": {},
   "source": [
    "Q6)Create a custom exception class .Use this to handle Exception"
   ]
  },
  {
   "cell_type": "code",
   "execution_count": 6,
   "id": "5399f43d-185d-4acb-838f-832596e8570a",
   "metadata": {},
   "outputs": [
    {
     "name": "stdout",
     "output_type": "stream",
     "text": [
      "Operation cant be performed type of variables is diiferent\n",
      "Program complteted its execution\n"
     ]
    }
   ],
   "source": [
    "class addition_class(Exception):\n",
    "    def __init__(self,msg):\n",
    "        self.msg = msg\n",
    "        \n",
    "\n",
    "def add_opperation(a,b):\n",
    "    if type(a) != type(b):\n",
    "        raise addition_class(\"Operation cant be performed type of variables is diiferent\")\n",
    "    else:\n",
    "        r=a+b\n",
    "        raise addition_class(f\"Result is : {r} \")\n",
    "        \n",
    "try:\n",
    "        add_opperation(\"str\",12)\n",
    "except addition_class as e:\n",
    "    print(e)\n",
    "finally:\n",
    "    print(\"Program completed its execution\")"
   ]
  },
  {
   "cell_type": "code",
   "execution_count": null,
   "id": "5b6c63fb-4ac9-477c-a8e4-5303be22a719",
   "metadata": {},
   "outputs": [],
   "source": []
  }
 ],
 "metadata": {
  "kernelspec": {
   "display_name": "Python 3 (ipykernel)",
   "language": "python",
   "name": "python3"
  },
  "language_info": {
   "codemirror_mode": {
    "name": "ipython",
    "version": 3
   },
   "file_extension": ".py",
   "mimetype": "text/x-python",
   "name": "python",
   "nbconvert_exporter": "python",
   "pygments_lexer": "ipython3",
   "version": "3.10.8"
  }
 },
 "nbformat": 4,
 "nbformat_minor": 5
}
